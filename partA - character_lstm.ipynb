{
  "nbformat": 4,
  "nbformat_minor": 0,
  "metadata": {
    "colab": {
      "name": "Ass3_last (1).ipynb",
      "provenance": [],
      "collapsed_sections": [],
      "toc_visible": true
    },
    "kernelspec": {
      "name": "python3",
      "display_name": "Python 3"
    },
    "accelerator": "GPU"
  },
  "cells": [
    {
      "cell_type": "code",
      "metadata": {
        "colab": {
          "base_uri": "https://localhost:8080/"
        },
        "id": "cqB29dRxY_dl",
        "outputId": "27670ca4-9d15-45c5-e80d-ee058d96363f"
      },
      "source": [
        "from google.colab import drive\r\n",
        "drive.mount('/content/drive')"
      ],
      "execution_count": null,
      "outputs": [
        {
          "output_type": "stream",
          "text": [
            "Mounted at /content/drive\n"
          ],
          "name": "stdout"
        }
      ]
    },
    {
      "cell_type": "markdown",
      "metadata": {
        "id": "YRz_yA6FZmjr"
      },
      "source": [
        "# Assignment 3 – Practical Deep Learning Workshop"
      ]
    },
    {
      "cell_type": "code",
      "metadata": {
        "id": "BXEAsx6DZDgt"
      },
      "source": [
        "%matplotlib inline\r\n",
        "import pandas as pd\r\n",
        "pd.set_option('display.max_colwidth', 200)\r\n",
        "import matplotlib.pyplot as plt\r\n",
        "import numpy as np\r\n",
        "import seaborn as sns\r\n",
        "import time\r\n",
        "\r\n",
        "import tensorflow as tf\r\n",
        "from tensorflow.keras.layers import Input, Dense, LSTM, Dropout, Embedding, Subtract, Lambda, Masking, Conv1D, GlobalMaxPooling1D ,Activation\r\n",
        "from tensorflow.keras.callbacks import EarlyStopping, ModelCheckpoint, ReduceLROnPlateau\r\n",
        "from tensorflow.keras.preprocessing.sequence import pad_sequences\r\n",
        "from tensorflow.keras import Model\r\n",
        "from tensorflow.keras.utils import to_categorical, plot_model\r\n",
        "\r\n",
        "from sklearn.feature_extraction.text import CountVectorizer\r\n",
        "from sklearn.ensemble import RandomForestRegressor\r\n",
        "from sklearn.model_selection import train_test_split, learning_curve\r\n",
        "from sklearn.metrics import mean_squared_error, mean_absolute_error\r\n",
        "from keras import backend as K\r\n",
        "from xgboost import XGBRegressor\r\n",
        "from math import sqrt\r\n"
      ],
      "execution_count": null,
      "outputs": []
    },
    {
      "cell_type": "markdown",
      "metadata": {
        "id": "PJEQXodRZraS"
      },
      "source": [
        "# a.\tPreprocess the training and testing data to contain sequences of single characters. Note that you should do the above for both the search phrase and the item description."
      ]
    },
    {
      "cell_type": "code",
      "metadata": {
        "id": "MSI9xMUiZE-U"
      },
      "source": [
        "# loading data\r\n",
        "# folder_data_path = r'drive/My Drive/DeepLearnCourse/ass3/'\r\n",
        "folder_data_path = r'drive/My Drive/Ass3_files/'\r\n",
        "product_descriptions = pd.read_csv(folder_data_path + 'product_descriptions.csv')\r\n",
        "solution = pd.read_csv(folder_data_path + 'solution.csv')\r\n",
        "solution = solution[solution['Usage']!='Ignored'] # some rows are -1 and we got relevance btw 1-3\r\n",
        "train = pd.read_csv(folder_data_path + 'train.csv',encoding = \"ISO-8859-1\")\r\n",
        "test = pd.read_csv(folder_data_path + 'test.csv',encoding = \"ISO-8859-1\")\r\n",
        "\r\n",
        "# join tables\r\n",
        "train_df = train.merge(product_descriptions, how='inner', on='product_uid')\r\n",
        "solution = solution.drop(columns=['Usage'], axis=1)\r\n",
        "test_df = test.merge(solution, how='inner', on='id')\r\n",
        "test_df = test_df.merge(product_descriptions, how='inner', on='product_uid')"
      ],
      "execution_count": null,
      "outputs": []
    },
    {
      "cell_type": "code",
      "metadata": {
        "colab": {
          "base_uri": "https://localhost:8080/",
          "height": 762
        },
        "id": "35Hekzd6nHaM",
        "outputId": "0d84805b-37a2-4961-ec0a-519959ea4d41"
      },
      "source": [
        "train_df"
      ],
      "execution_count": null,
      "outputs": [
        {
          "output_type": "execute_result",
          "data": {
            "text/html": [
              "<div>\n",
              "<style scoped>\n",
              "    .dataframe tbody tr th:only-of-type {\n",
              "        vertical-align: middle;\n",
              "    }\n",
              "\n",
              "    .dataframe tbody tr th {\n",
              "        vertical-align: top;\n",
              "    }\n",
              "\n",
              "    .dataframe thead th {\n",
              "        text-align: right;\n",
              "    }\n",
              "</style>\n",
              "<table border=\"1\" class=\"dataframe\">\n",
              "  <thead>\n",
              "    <tr style=\"text-align: right;\">\n",
              "      <th></th>\n",
              "      <th>id</th>\n",
              "      <th>product_uid</th>\n",
              "      <th>product_title</th>\n",
              "      <th>search_term</th>\n",
              "      <th>relevance</th>\n",
              "      <th>product_description</th>\n",
              "    </tr>\n",
              "  </thead>\n",
              "  <tbody>\n",
              "    <tr>\n",
              "      <th>0</th>\n",
              "      <td>2</td>\n",
              "      <td>100001</td>\n",
              "      <td>Simpson Strong-Tie 12-Gauge Angle</td>\n",
              "      <td>angle bracket</td>\n",
              "      <td>3.00</td>\n",
              "      <td>Not only do angles make joints stronger, they also provide more consistent, straight corners. Simpson Strong-Tie offers a wide variety of angles in various sizes and thicknesses to handle light-du...</td>\n",
              "    </tr>\n",
              "    <tr>\n",
              "      <th>1</th>\n",
              "      <td>3</td>\n",
              "      <td>100001</td>\n",
              "      <td>Simpson Strong-Tie 12-Gauge Angle</td>\n",
              "      <td>l bracket</td>\n",
              "      <td>2.50</td>\n",
              "      <td>Not only do angles make joints stronger, they also provide more consistent, straight corners. Simpson Strong-Tie offers a wide variety of angles in various sizes and thicknesses to handle light-du...</td>\n",
              "    </tr>\n",
              "    <tr>\n",
              "      <th>2</th>\n",
              "      <td>9</td>\n",
              "      <td>100002</td>\n",
              "      <td>BEHR Premium Textured DeckOver 1-gal. #SC-141 Tugboat Wood and Concrete Coating</td>\n",
              "      <td>deck over</td>\n",
              "      <td>3.00</td>\n",
              "      <td>BEHR Premium Textured DECKOVER is an innovative solid color coating. It will bring your old, weathered wood or concrete back to life. The advanced 100% acrylic resin formula creates a durable coat...</td>\n",
              "    </tr>\n",
              "    <tr>\n",
              "      <th>3</th>\n",
              "      <td>16</td>\n",
              "      <td>100005</td>\n",
              "      <td>Delta Vero 1-Handle Shower Only Faucet Trim Kit in Chrome (Valve Not Included)</td>\n",
              "      <td>rain shower head</td>\n",
              "      <td>2.33</td>\n",
              "      <td>Update your bathroom with the Delta Vero Single-Handle Shower Faucet Trim Kit in Chrome. It has a sleek, modern and minimalistic aesthetic. The MultiChoice universal valve keeps the water temperat...</td>\n",
              "    </tr>\n",
              "    <tr>\n",
              "      <th>4</th>\n",
              "      <td>17</td>\n",
              "      <td>100005</td>\n",
              "      <td>Delta Vero 1-Handle Shower Only Faucet Trim Kit in Chrome (Valve Not Included)</td>\n",
              "      <td>shower only faucet</td>\n",
              "      <td>2.67</td>\n",
              "      <td>Update your bathroom with the Delta Vero Single-Handle Shower Faucet Trim Kit in Chrome. It has a sleek, modern and minimalistic aesthetic. The MultiChoice universal valve keeps the water temperat...</td>\n",
              "    </tr>\n",
              "    <tr>\n",
              "      <th>...</th>\n",
              "      <td>...</td>\n",
              "      <td>...</td>\n",
              "      <td>...</td>\n",
              "      <td>...</td>\n",
              "      <td>...</td>\n",
              "      <td>...</td>\n",
              "    </tr>\n",
              "    <tr>\n",
              "      <th>74062</th>\n",
              "      <td>221457</td>\n",
              "      <td>206638</td>\n",
              "      <td>Atlantic Windowpane 576 CD or 192 DVD Blu-Ray or Games Maple Sliding Glass Door Media Cabinet</td>\n",
              "      <td>tv riser glass</td>\n",
              "      <td>1.00</td>\n",
              "      <td>Atlantic, Inc. 94835722 Uniquely designed for maximum media storage, this sophisticated cabinet fits traditional living rooms and upscale decor. Formal, elegant and functional two-way sliding glas...</td>\n",
              "    </tr>\n",
              "    <tr>\n",
              "      <th>74063</th>\n",
              "      <td>221458</td>\n",
              "      <td>206639</td>\n",
              "      <td>Philips 40-Watt Halogen R20 Flood Light Bulb (12-Pack)</td>\n",
              "      <td>r20 halogen light</td>\n",
              "      <td>3.00</td>\n",
              "      <td>Philips Energy Advantage lamps use less energy while maintaining bright, crisp, white halogen light. Available in traditional lamp shapes to fit most incandescent fixtures. Halogen energy savers w...</td>\n",
              "    </tr>\n",
              "    <tr>\n",
              "      <th>74064</th>\n",
              "      <td>221463</td>\n",
              "      <td>206641</td>\n",
              "      <td>Schlage Camelot In-Active Aged Bronze Handleset with Left-Hand Accent Lever</td>\n",
              "      <td>schlage lock siena half dummy knob with</td>\n",
              "      <td>2.33</td>\n",
              "      <td>The Schlage Camelot In-Active Aged Bronze Handleset with Left-Hand Accent Lever is perfect for use as a decorative door pull on a pair of non-latching doors. The interior Accent lever is widely po...</td>\n",
              "    </tr>\n",
              "    <tr>\n",
              "      <th>74065</th>\n",
              "      <td>221471</td>\n",
              "      <td>206648</td>\n",
              "      <td>Plastec 11 in. x 24 in. Rose Garden Wall Decor Steel</td>\n",
              "      <td>zen garden  decor</td>\n",
              "      <td>3.00</td>\n",
              "      <td>The Rose Garden is inspired by the popular early 20th century Scottish design motif. Dark Bronze powder coated finish on steel makes it suitable for indoor or outdoor use.Indoor and outdoor useFin...</td>\n",
              "    </tr>\n",
              "    <tr>\n",
              "      <th>74066</th>\n",
              "      <td>221473</td>\n",
              "      <td>206650</td>\n",
              "      <td>LICHTENBERG Pool Blue No. 918 Millennial Ryan Heathered Texture Sheer Curtain Panel, 40 in. W x 63 in. L</td>\n",
              "      <td>fine sheer curtain 63 inches</td>\n",
              "      <td>2.33</td>\n",
              "      <td>No. 918 Millennial Ryan heathered texture semi-sheer curtain is a casual solid that adds freshness and a finishing touch to any decor setting. Enhances privacy while allowing light to gently filte...</td>\n",
              "    </tr>\n",
              "  </tbody>\n",
              "</table>\n",
              "<p>74067 rows × 6 columns</p>\n",
              "</div>"
            ],
            "text/plain": [
              "           id  ...                                                                                                                                                                                      product_description\n",
              "0           2  ...  Not only do angles make joints stronger, they also provide more consistent, straight corners. Simpson Strong-Tie offers a wide variety of angles in various sizes and thicknesses to handle light-du...\n",
              "1           3  ...  Not only do angles make joints stronger, they also provide more consistent, straight corners. Simpson Strong-Tie offers a wide variety of angles in various sizes and thicknesses to handle light-du...\n",
              "2           9  ...  BEHR Premium Textured DECKOVER is an innovative solid color coating. It will bring your old, weathered wood or concrete back to life. The advanced 100% acrylic resin formula creates a durable coat...\n",
              "3          16  ...  Update your bathroom with the Delta Vero Single-Handle Shower Faucet Trim Kit in Chrome. It has a sleek, modern and minimalistic aesthetic. The MultiChoice universal valve keeps the water temperat...\n",
              "4          17  ...  Update your bathroom with the Delta Vero Single-Handle Shower Faucet Trim Kit in Chrome. It has a sleek, modern and minimalistic aesthetic. The MultiChoice universal valve keeps the water temperat...\n",
              "...       ...  ...                                                                                                                                                                                                      ...\n",
              "74062  221457  ...  Atlantic, Inc. 94835722 Uniquely designed for maximum media storage, this sophisticated cabinet fits traditional living rooms and upscale decor. Formal, elegant and functional two-way sliding glas...\n",
              "74063  221458  ...  Philips Energy Advantage lamps use less energy while maintaining bright, crisp, white halogen light. Available in traditional lamp shapes to fit most incandescent fixtures. Halogen energy savers w...\n",
              "74064  221463  ...  The Schlage Camelot In-Active Aged Bronze Handleset with Left-Hand Accent Lever is perfect for use as a decorative door pull on a pair of non-latching doors. The interior Accent lever is widely po...\n",
              "74065  221471  ...  The Rose Garden is inspired by the popular early 20th century Scottish design motif. Dark Bronze powder coated finish on steel makes it suitable for indoor or outdoor use.Indoor and outdoor useFin...\n",
              "74066  221473  ...  No. 918 Millennial Ryan heathered texture semi-sheer curtain is a casual solid that adds freshness and a finishing touch to any decor setting. Enhances privacy while allowing light to gently filte...\n",
              "\n",
              "[74067 rows x 6 columns]"
            ]
          },
          "metadata": {
            "tags": []
          },
          "execution_count": 4
        }
      ]
    },
    {
      "cell_type": "code",
      "metadata": {
        "id": "SX9xpeauWmmk"
      },
      "source": [
        "del train, test, product_descriptions, solution"
      ],
      "execution_count": null,
      "outputs": []
    },
    {
      "cell_type": "code",
      "metadata": {
        "id": "7uUs4ouhfOx2"
      },
      "source": [
        "results = pd.DataFrame({'Model': [], 'Runtime':[], 'Train_RMSE': [],\r\n",
        "                       'Val_RMSE': [], 'Test_RMSE':[], 'Train_MAE': [],\r\n",
        "                       'Val_MAE': [], 'Test_MAE': []})"
      ],
      "execution_count": null,
      "outputs": []
    },
    {
      "cell_type": "code",
      "metadata": {
        "id": "Tk50t6FHfQKQ"
      },
      "source": [
        "def append_results(model, end, train_rmse, val_rmse, test_rmse, train_mae, val_mae, test_mae):\r\n",
        "    global results\r\n",
        "    res = pd.Series({'Model': model, \r\n",
        "                     'Runtime': end,\r\n",
        "                     'Train_RMSE': train_rmse,\r\n",
        "                     'Val_RMSE': val_rmse,\r\n",
        "                     'Test_RMSE': test_rmse,\r\n",
        "                     'Train_MAE': train_mae,\r\n",
        "                     'Val_MAE': val_mae,\r\n",
        "                     'Test_MAE': test_mae})\r\n",
        "    results = results.append(res, ignore_index=True)"
      ],
      "execution_count": null,
      "outputs": []
    },
    {
      "cell_type": "code",
      "metadata": {
        "id": "sAVGi38F17lh"
      },
      "source": [
        "def plot_metrics_results(model_name,metric_name,score_1,score_2,score_3):\r\n",
        "    metrics_names = (metric_name +' train',metric_name +' val',metric_name +' test')\r\n",
        "    y_pos = np.arange(len(metrics_names))\r\n",
        "    performance = [score_1,score_2, score_3]\r\n",
        "    plt.bar(y_pos, performance, align='center', alpha=0.2)\r\n",
        "    plt.xticks(y_pos, metrics_names)\r\n",
        "    plt.ylabel(metric_name)\r\n",
        "    plt.title(model_name +' '+metric_name +' metric results:')\r\n",
        "    plt.show()"
      ],
      "execution_count": null,
      "outputs": []
    },
    {
      "cell_type": "code",
      "metadata": {
        "id": "Lja62qwtaRXE"
      },
      "source": [
        "# turn all data to lower case to get smaller dictionaries\r\n",
        "train_df['search_term'] = train_df['search_term'].str.lower()\r\n",
        "train_df['product_description'] = train_df['product_description'].str.lower()\r\n",
        "\r\n",
        "test_df['search_term'] = test_df['search_term'].str.lower()\r\n",
        "test_df['product_description'] = test_df['product_description'].str.lower()"
      ],
      "execution_count": null,
      "outputs": []
    },
    {
      "cell_type": "code",
      "metadata": {
        "id": "Bhv-qPxQaAZa"
      },
      "source": [
        "# get all tokens in data to create a char2index and index2char dictionaries\r\n",
        "tokens = set(' '.join(train_df.search_term.tolist()) +\\\r\n",
        "             ' '.join(train_df.product_description.tolist())+\\\r\n",
        "             ' '.join(test_df.search_term.tolist()) +\\\r\n",
        "             ' '.join(test_df.product_description.tolist())) \r\n",
        "\r\n",
        "char2index = {c: i+1 for i, c in enumerate(tokens)}\r\n",
        "index2char = {i: c for c, i in char2index.items()}"
      ],
      "execution_count": null,
      "outputs": []
    },
    {
      "cell_type": "code",
      "metadata": {
        "colab": {
          "base_uri": "https://localhost:8080/"
        },
        "id": "OCn_i6yRBFGB",
        "outputId": "d9005b08-625d-4c6b-b004-0cd79d292f03"
      },
      "source": [
        "len(char2index)"
      ],
      "execution_count": null,
      "outputs": [
        {
          "output_type": "execute_result",
          "data": {
            "text/plain": [
              "68"
            ]
          },
          "metadata": {
            "tags": []
          },
          "execution_count": 11
        }
      ]
    },
    {
      "cell_type": "code",
      "metadata": {
        "id": "fnlKXekzai2k"
      },
      "source": [
        "# turn train_df words to chars\r\n",
        "train_df_char = pd.DataFrame({'search_term': [], 'product_description': [], 'relevance':[]})\r\n",
        "train_df_char['search_term'] = train_df['search_term'].apply(lambda term: np.array([char2index[char] for char in term]))\r\n",
        "train_df_char['product_description'] = train_df['product_description'].apply(lambda term: [char2index[char] for char in term])\r\n",
        "train_df_char['relevance'] = train_df['relevance']\r\n",
        "\r\n",
        "# turn test_df description to chars\r\n",
        "test_df_char = pd.DataFrame({'search_term': [], 'product_description': [], 'relevance':[]})\r\n",
        "test_df_char['search_term'] = test_df['search_term'].apply(lambda term: np.array([char2index[char] for char in term]))\r\n",
        "test_df_char['product_description'] = test_df['product_description'].apply(lambda term: [char2index[char] for char in term])\r\n",
        "test_df_char['relevance'] = test_df['relevance']\r\n",
        "\r\n"
      ],
      "execution_count": null,
      "outputs": []
    },
    {
      "cell_type": "code",
      "metadata": {
        "colab": {
          "base_uri": "https://localhost:8080/"
        },
        "id": "nFBxfdpnbl_0",
        "outputId": "b5246523-c7fb-40ad-8c27-5c3d26cd5dd1"
      },
      "source": [
        "# longest search term\r\n",
        "train_df_char.search_term.apply(len).max()"
      ],
      "execution_count": null,
      "outputs": [
        {
          "output_type": "execute_result",
          "data": {
            "text/plain": [
              "60"
            ]
          },
          "metadata": {
            "tags": []
          },
          "execution_count": 13
        }
      ]
    },
    {
      "cell_type": "code",
      "metadata": {
        "colab": {
          "base_uri": "https://localhost:8080/"
        },
        "id": "ugu4h0pHbt_p",
        "outputId": "eb2ef3e4-da35-4539-8787-5b60c93d52d5"
      },
      "source": [
        "# longest product_description\r\n",
        "train_df_char.product_description.apply(len).max()\r\n",
        "# we get a very long description and therefore we would not want the proccess to take long so we will be focusing on 1000 first chars\r\n",
        "# assumption - most of relevant info would be at the begining of the description"
      ],
      "execution_count": null,
      "outputs": [
        {
          "output_type": "execute_result",
          "data": {
            "text/plain": [
              "5516"
            ]
          },
          "metadata": {
            "tags": []
          },
          "execution_count": 14
        }
      ]
    },
    {
      "cell_type": "code",
      "metadata": {
        "id": "WQJWGvk5c7BT"
      },
      "source": [
        "# turn train_df and test_df description to first 1000 chars\r\n",
        "train_df_char = pd.DataFrame({'search_term': [], 'product_description': [], 'relevance':[]})\r\n",
        "train_df_char['search_term'] = train_df['search_term'].apply(lambda term: np.array([char2index[char] for char in term[:1000]]))\r\n",
        "train_df_char['product_description'] = train_df['product_description'].apply(lambda term: [char2index[char] for char in term[:1000]])\r\n",
        "train_df_char['relevance'] = train_df['relevance']\r\n",
        "\r\n",
        "test_df_char = pd.DataFrame({'search_term': [], 'product_description': [], 'relevance':[]})\r\n",
        "test_df_char['search_term'] = test_df['search_term'].apply(lambda term: np.array([char2index[char] for char in term[:1000]]))\r\n",
        "test_df_char['product_description'] = test_df['product_description'].apply(lambda term: [char2index[char] for char in term[:1000]])\r\n",
        "test_df_char['relevance'] = test_df['relevance']"
      ],
      "execution_count": null,
      "outputs": []
    },
    {
      "cell_type": "markdown",
      "metadata": {
        "id": "8X5WO7LNcVVC"
      },
      "source": [
        "# b.\tConstruct and train a Siamese network as described in the above liked paper.  The input to the network should be the character sequences constructing the search phrase and the item description, and the output should be the predicted search relevance score"
      ]
    },
    {
      "cell_type": "code",
      "metadata": {
        "id": "XXWsLdhScY28"
      },
      "source": [
        "# siamese model\r\n",
        "\r\n",
        "def build_siamese_model(seq_length, vocab_size, embedding_size=64):\r\n",
        "\r\n",
        "    # Search\r\n",
        "    search_input = Input((seq_length,),name=\"Search_Input\")\r\n",
        "\r\n",
        "    embedding = Embedding(input_dim=vocab_size+1, output_dim=embedding_size, input_length=seq_length,name='Search_Embedding')(search_input)\r\n",
        "    lstm = LSTM(128, return_sequences=False, activation='tanh',name='Search_lstm')(embedding)\r\n",
        "    search_output = Dense(64, activation='relu',name='Search_Output')(lstm)\r\n",
        "\r\n",
        "    # Description\r\n",
        "    description_input = Input((seq_length,),name=\"Description_Input\")\r\n",
        "\r\n",
        "    embedding = Embedding(input_dim=vocab_size+1, output_dim=embedding_size, input_length=seq_length,name='Description_Embedding')(description_input)\r\n",
        "    lstm = LSTM(128, return_sequences=False, activation='tanh',name='Description_lstm')(embedding)\r\n",
        "    description_output = Dense(64, activation='relu',name='Description_Output')(lstm)\r\n",
        "\r\n",
        "\r\n",
        "    similarity = Subtract(name='subtract')([search_output, description_output])\r\n",
        "    similarity = Lambda(lambda x: tf.math.abs(x))(similarity)\r\n",
        "    relevance = Dense(1, activation='relu',name='Model_Output')(similarity)\r\n",
        "    siamese_net = Model(inputs=[search_input, description_input], outputs=relevance)\r\n",
        "\r\n",
        "    return siamese_net"
      ],
      "execution_count": null,
      "outputs": []
    },
    {
      "cell_type": "code",
      "metadata": {
        "colab": {
          "base_uri": "https://localhost:8080/"
        },
        "id": "sr3jhaLLeo0w",
        "outputId": "011a1e8f-cac7-4f07-eefb-26bd743e1e5a"
      },
      "source": [
        "max_seq_length = 1000\r\n",
        "siamese_net_char = build_siamese_model(max_seq_length, vocab_size=len(char2index))\r\n",
        "siamese_net_char.compile(optimizer='adam', loss='mse', metrics=['mse', 'mae', tf.keras.metrics.RootMeanSquaredError()])\r\n",
        "siamese_net_char.summary()\r\n"
      ],
      "execution_count": null,
      "outputs": [
        {
          "output_type": "stream",
          "text": [
            "Model: \"model\"\n",
            "__________________________________________________________________________________________________\n",
            "Layer (type)                    Output Shape         Param #     Connected to                     \n",
            "==================================================================================================\n",
            "Search_Input (InputLayer)       [(None, 1000)]       0                                            \n",
            "__________________________________________________________________________________________________\n",
            "Description_Input (InputLayer)  [(None, 1000)]       0                                            \n",
            "__________________________________________________________________________________________________\n",
            "Search_Embedding (Embedding)    (None, 1000, 64)     4416        Search_Input[0][0]               \n",
            "__________________________________________________________________________________________________\n",
            "Description_Embedding (Embeddin (None, 1000, 64)     4416        Description_Input[0][0]          \n",
            "__________________________________________________________________________________________________\n",
            "Search_lstm (LSTM)              (None, 128)          98816       Search_Embedding[0][0]           \n",
            "__________________________________________________________________________________________________\n",
            "Description_lstm (LSTM)         (None, 128)          98816       Description_Embedding[0][0]      \n",
            "__________________________________________________________________________________________________\n",
            "Search_Output (Dense)           (None, 64)           8256        Search_lstm[0][0]                \n",
            "__________________________________________________________________________________________________\n",
            "Description_Output (Dense)      (None, 64)           8256        Description_lstm[0][0]           \n",
            "__________________________________________________________________________________________________\n",
            "subtract (Subtract)             (None, 64)           0           Search_Output[0][0]              \n",
            "                                                                 Description_Output[0][0]         \n",
            "__________________________________________________________________________________________________\n",
            "lambda (Lambda)                 (None, 64)           0           subtract[0][0]                   \n",
            "__________________________________________________________________________________________________\n",
            "Model_Output (Dense)            (None, 1)            65          lambda[0][0]                     \n",
            "==================================================================================================\n",
            "Total params: 223,041\n",
            "Trainable params: 223,041\n",
            "Non-trainable params: 0\n",
            "__________________________________________________________________________________________________\n"
          ],
          "name": "stdout"
        }
      ]
    },
    {
      "cell_type": "code",
      "metadata": {
        "colab": {
          "base_uri": "https://localhost:8080/",
          "height": 661
        },
        "id": "jeNjYrYeeq3u",
        "outputId": "896d67d9-0b37-444a-faf1-17254547cc87"
      },
      "source": [
        "plot_model(siamese_net_char)"
      ],
      "execution_count": null,
      "outputs": [
        {
          "output_type": "execute_result",
          "data": {
            "image/png": "[encoded data removed]",
            "text/plain": [
              "<IPython.core.display.Image object>"
            ]
          },
          "metadata": {
            "tags": []
          },
          "execution_count": 18
        }
      ]
    },
    {
      "cell_type": "code",
      "metadata": {
        "id": "L-5xW1nIhrCA"
      },
      "source": [
        "# create train and validation \r\n",
        "x_train_char, x_val_char, y_train_char, y_val_char = train_test_split(train_df_char[['search_term', 'product_description']], train_df_char[['relevance']], test_size=0.2, shuffle=True)"
      ],
      "execution_count": null,
      "outputs": []
    },
    {
      "cell_type": "code",
      "metadata": {
        "colab": {
          "base_uri": "https://localhost:8080/"
        },
        "id": "C5dcsGVkfJza",
        "outputId": "44e66d21-cf6d-46e4-c3fb-73f9619db88c"
      },
      "source": [
        "# padding for search item and product_description\r\n",
        "x_train_search_item_char = np.array(pad_sequences(x_train_char.search_term ,maxlen=1000, padding='post', dtype='int32'))\r\n",
        "x_train_product_description_char = np.array(pad_sequences(x_train_char.product_description ,maxlen=1000, padding='post', dtype='int32')) # 1000 instead of max_len_description because it would take long time to run\r\n",
        "\r\n",
        "x_val_search_item_char = np.array(pad_sequences(x_val_char.search_term ,maxlen=1000, padding='post', dtype='int32'))\r\n",
        "x_val_product_description_char = np.array(pad_sequences(x_val_char.product_description ,maxlen=1000, padding='post', dtype='int32'))\r\n",
        "\r\n",
        "x_test_search_item_char = np.array(pad_sequences(test_df_char.search_term ,maxlen=1000, padding='post', dtype='int32'))\r\n",
        "x_test_product_description_char = np.array(pad_sequences(test_df_char.product_description ,maxlen=1000, padding='post', dtype='int32'))\r\n",
        "\r\n",
        "\r\n",
        "print('train search_term shape is',x_train_search_item_char.shape,'\\nproduct description shape is',x_train_product_description_char.shape, )\r\n",
        "print('val search_term shape is',x_val_search_item_char.shape,'\\nproduct description shape is',x_val_product_description_char.shape, )\r\n",
        "print('test search_term shape is',x_test_search_item_char.shape,'\\nproduct description shape is',x_test_product_description_char.shape, )\r\n",
        "\r\n",
        "\r\n"
      ],
      "execution_count": null,
      "outputs": [
        {
          "output_type": "stream",
          "text": [
            "train search_term shape is (59253, 1000) \n",
            "product description shape is (59253, 1000)\n",
            "val search_term shape is (14814, 1000) \n",
            "product description shape is (14814, 1000)\n",
            "test search_term shape is (112067, 1000) \n",
            "product description shape is (112067, 1000)\n"
          ],
          "name": "stdout"
        }
      ]
    },
    {
      "cell_type": "code",
      "metadata": {
        "colab": {
          "base_uri": "https://localhost:8080/"
        },
        "id": "Z8C_xXtRkB2s",
        "outputId": "6a566644-ded3-4ecd-abe1-ef3e258f7766"
      },
      "source": [
        "# padding for relevance\r\n",
        "y_train_relevance = np.array(y_train_char.relevance)\r\n",
        "\r\n",
        "y_val_relevance = np.array(y_val_char.relevance)\r\n",
        "\r\n",
        "y_test_relevance = np.array(test_df_char.relevance)\r\n",
        "\r\n",
        "\r\n",
        "print('y_train_relevance search_term shape is',y_train_relevance.shape)\r\n",
        "print('y_val_relevance search_term shape is',y_val_relevance.shape)\r\n",
        "print('y_test_relevance search_term shape is',y_test_relevance.shape )"
      ],
      "execution_count": null,
      "outputs": [
        {
          "output_type": "stream",
          "text": [
            "y_train_relevance search_term shape is (59253,)\n",
            "y_val_relevance search_term shape is (14814,)\n",
            "y_test_relevance search_term shape is (112067,)\n"
          ],
          "name": "stdout"
        }
      ]
    },
    {
      "cell_type": "code",
      "metadata": {
        "colab": {
          "base_uri": "https://localhost:8080/"
        },
        "id": "2TWzUwvIj8ed",
        "outputId": "52ec5be8-22c5-44a8-ece0-096d22413b9e"
      },
      "source": [
        "y_test_relevance"
      ],
      "execution_count": null,
      "outputs": [
        {
          "output_type": "execute_result",
          "data": {
            "text/plain": [
              "array([2.33, 2.33, 2.67, ..., 2.67, 1.  , 2.33])"
            ]
          },
          "metadata": {
            "tags": []
          },
          "execution_count": 22
        }
      ]
    },
    {
      "cell_type": "code",
      "metadata": {
        "colab": {
          "base_uri": "https://localhost:8080/"
        },
        "id": "jeb52eRC8NLD",
        "outputId": "e7176978-c89f-4871-8f30-21f9166854cd"
      },
      "source": [
        "y_test_relevance.shape"
      ],
      "execution_count": null,
      "outputs": [
        {
          "output_type": "execute_result",
          "data": {
            "text/plain": [
              "(112067,)"
            ]
          },
          "metadata": {
            "tags": []
          },
          "execution_count": 23
        }
      ]
    },
    {
      "cell_type": "code",
      "metadata": {
        "colab": {
          "base_uri": "https://localhost:8080/"
        },
        "id": "138ZloVtjogf",
        "outputId": "a46dd281-fa87-4d62-cc9f-6e7137e4b506"
      },
      "source": [
        "start_char_lstm = time.time()\r\n",
        "history_char = siamese_net_char.fit(x=[x_train_search_item_char, x_train_product_description_char], y=y_train_relevance, epochs=10, batch_size=256,\r\n",
        "                          verbose=1, callbacks=[], validation_data=([x_val_search_item_char, x_val_product_description_char], y_val_relevance))\r\n",
        "runtime_char_lstm = time.time() - start_char_lstm"
      ],
      "execution_count": null,
      "outputs": [
        {
          "output_type": "stream",
          "text": [
            "Epoch 1/10\n",
            "232/232 [==============================] - 67s 245ms/step - loss: 1.0477 - mse: 1.0477 - mae: 0.7335 - root_mean_squared_error: 0.9522 - val_loss: 0.2899 - val_mse: 0.2899 - val_mae: 0.4428 - val_root_mean_squared_error: 0.5384\n",
            "Epoch 2/10\n",
            "232/232 [==============================] - 57s 246ms/step - loss: 0.2844 - mse: 0.2844 - mae: 0.4371 - root_mean_squared_error: 0.5332 - val_loss: 0.2854 - val_mse: 0.2854 - val_mae: 0.4355 - val_root_mean_squared_error: 0.5343\n",
            "Epoch 3/10\n",
            "232/232 [==============================] - 58s 251ms/step - loss: 0.2872 - mse: 0.2872 - mae: 0.4389 - root_mean_squared_error: 0.5359 - val_loss: 0.2850 - val_mse: 0.2850 - val_mae: 0.4398 - val_root_mean_squared_error: 0.5338\n",
            "Epoch 4/10\n",
            "232/232 [==============================] - 58s 251ms/step - loss: 0.2845 - mse: 0.2845 - mae: 0.4368 - root_mean_squared_error: 0.5334 - val_loss: 0.2883 - val_mse: 0.2883 - val_mae: 0.4419 - val_root_mean_squared_error: 0.5369\n",
            "Epoch 5/10\n",
            "232/232 [==============================] - 58s 250ms/step - loss: 0.2887 - mse: 0.2887 - mae: 0.4400 - root_mean_squared_error: 0.5373 - val_loss: 0.2840 - val_mse: 0.2840 - val_mae: 0.4366 - val_root_mean_squared_error: 0.5329\n",
            "Epoch 6/10\n",
            "232/232 [==============================] - 58s 251ms/step - loss: 0.2870 - mse: 0.2870 - mae: 0.4393 - root_mean_squared_error: 0.5357 - val_loss: 0.2856 - val_mse: 0.2856 - val_mae: 0.4403 - val_root_mean_squared_error: 0.5344\n",
            "Epoch 7/10\n",
            "232/232 [==============================] - 58s 250ms/step - loss: 0.2867 - mse: 0.2867 - mae: 0.4380 - root_mean_squared_error: 0.5354 - val_loss: 0.2853 - val_mse: 0.2853 - val_mae: 0.4394 - val_root_mean_squared_error: 0.5341\n",
            "Epoch 8/10\n",
            "232/232 [==============================] - 58s 250ms/step - loss: 0.2851 - mse: 0.2851 - mae: 0.4368 - root_mean_squared_error: 0.5339 - val_loss: 0.2844 - val_mse: 0.2844 - val_mae: 0.4359 - val_root_mean_squared_error: 0.5333\n",
            "Epoch 9/10\n",
            "232/232 [==============================] - 58s 250ms/step - loss: 0.2855 - mse: 0.2855 - mae: 0.4369 - root_mean_squared_error: 0.5344 - val_loss: 0.2838 - val_mse: 0.2838 - val_mae: 0.4372 - val_root_mean_squared_error: 0.5328\n",
            "Epoch 10/10\n",
            "232/232 [==============================] - 58s 251ms/step - loss: 0.2857 - mse: 0.2857 - mae: 0.4376 - root_mean_squared_error: 0.5345 - val_loss: 0.2849 - val_mse: 0.2849 - val_mae: 0.4364 - val_root_mean_squared_error: 0.5337\n"
          ],
          "name": "stdout"
        }
      ]
    },
    {
      "cell_type": "code",
      "metadata": {
        "colab": {
          "base_uri": "https://localhost:8080/"
        },
        "id": "IUxjgX4MEpWl",
        "outputId": "e1382105-5818-40c6-df07-519f3f90388a"
      },
      "source": [
        "eval_train = siamese_net_char.evaluate([x_train_search_item_char, x_train_product_description_char], y_train_relevance)"
      ],
      "execution_count": null,
      "outputs": [
        {
          "output_type": "stream",
          "text": [
            "1852/1852 [==============================] - 57s 31ms/step - loss: 0.2853 - mse: 0.2853 - mae: 0.4356 - root_mean_squared_error: 0.5342\n"
          ],
          "name": "stdout"
        }
      ]
    },
    {
      "cell_type": "code",
      "metadata": {
        "colab": {
          "base_uri": "https://localhost:8080/"
        },
        "id": "Yl28BMXPEpmW",
        "outputId": "77d06bc5-c557-4837-8af7-90ad29007836"
      },
      "source": [
        "eval_val = siamese_net_char.evaluate([x_val_search_item_char, x_val_product_description_char], y_val_relevance)"
      ],
      "execution_count": null,
      "outputs": [
        {
          "output_type": "stream",
          "text": [
            "463/463 [==============================] - 14s 30ms/step - loss: 0.2849 - mse: 0.2849 - mae: 0.4364 - root_mean_squared_error: 0.5337\n"
          ],
          "name": "stdout"
        }
      ]
    },
    {
      "cell_type": "code",
      "metadata": {
        "colab": {
          "base_uri": "https://localhost:8080/"
        },
        "id": "N0cDhIX6C76o",
        "outputId": "9fba5536-a6ca-4957-9658-b680f2fd81b4"
      },
      "source": [
        "eval_test = siamese_net_char.evaluate([x_test_search_item_char, x_test_product_description_char], y_test_relevance)"
      ],
      "execution_count": null,
      "outputs": [
        {
          "output_type": "stream",
          "text": [
            "3503/3503 [==============================] - 107s 31ms/step - loss: 0.2872 - mse: 0.2872 - mae: 0.4372 - root_mean_squared_error: 0.5359\n"
          ],
          "name": "stdout"
        }
      ]
    },
    {
      "cell_type": "code",
      "metadata": {
        "id": "YQBJ-uXOKKHa"
      },
      "source": [
        "preds = siamese_net_char.predict([x_test_search_item_char, x_test_product_description_char])"
      ],
      "execution_count": null,
      "outputs": []
    },
    {
      "cell_type": "code",
      "metadata": {
        "id": "JksAKspwfZto"
      },
      "source": [
        "append_results('Char LSTM', runtime_char_lstm, eval_train[-1], eval_val[-1],\r\n",
        "                     eval_test[-1], eval_train[-2], eval_val[-2],\r\n",
        "                     eval_test[-2])"
      ],
      "execution_count": null,
      "outputs": []
    },
    {
      "cell_type": "code",
      "metadata": {
        "colab": {
          "base_uri": "https://localhost:8080/",
          "height": 80
        },
        "id": "8zAxdLizf0l0",
        "outputId": "a1f5edec-42f2-4c11-b637-41d0f8cc9ca1"
      },
      "source": [
        "results"
      ],
      "execution_count": null,
      "outputs": [
        {
          "output_type": "execute_result",
          "data": {
            "text/html": [
              "<div>\n",
              "<style scoped>\n",
              "    .dataframe tbody tr th:only-of-type {\n",
              "        vertical-align: middle;\n",
              "    }\n",
              "\n",
              "    .dataframe tbody tr th {\n",
              "        vertical-align: top;\n",
              "    }\n",
              "\n",
              "    .dataframe thead th {\n",
              "        text-align: right;\n",
              "    }\n",
              "</style>\n",
              "<table border=\"1\" class=\"dataframe\">\n",
              "  <thead>\n",
              "    <tr style=\"text-align: right;\">\n",
              "      <th></th>\n",
              "      <th>Model</th>\n",
              "      <th>Runtime</th>\n",
              "      <th>Train_RMSE</th>\n",
              "      <th>Val_RMSE</th>\n",
              "      <th>Test_RMSE</th>\n",
              "      <th>Train_MAE</th>\n",
              "      <th>Val_MAE</th>\n",
              "      <th>Test_MAE</th>\n",
              "    </tr>\n",
              "  </thead>\n",
              "  <tbody>\n",
              "    <tr>\n",
              "      <th>0</th>\n",
              "      <td>Char LSTM</td>\n",
              "      <td>588.598047</td>\n",
              "      <td>0.53418</td>\n",
              "      <td>0.533738</td>\n",
              "      <td>0.535869</td>\n",
              "      <td>0.435614</td>\n",
              "      <td>0.436391</td>\n",
              "      <td>0.437229</td>\n",
              "    </tr>\n",
              "  </tbody>\n",
              "</table>\n",
              "</div>"
            ],
            "text/plain": [
              "       Model     Runtime  Train_RMSE  ...  Train_MAE   Val_MAE  Test_MAE\n",
              "0  Char LSTM  588.598047     0.53418  ...   0.435614  0.436391  0.437229\n",
              "\n",
              "[1 rows x 8 columns]"
            ]
          },
          "metadata": {
            "tags": []
          },
          "execution_count": 30
        }
      ]
    },
    {
      "cell_type": "code",
      "metadata": {
        "colab": {
          "base_uri": "https://localhost:8080/",
          "height": 850
        },
        "id": "7Bnm3NowXGau",
        "outputId": "327ec1e8-df8e-4673-da39-a84000cab908"
      },
      "source": [
        "def plot_model_indicator(history, train_indicator, val_indicator, title, x_label, y_label, legend):\r\n",
        "  plt.plot(history[train_indicator])\r\n",
        "  plt.plot(history[val_indicator])\r\n",
        "  plt.title(title)\r\n",
        "  plt.ylabel(x_label)\r\n",
        "  plt.xlabel(y_label)\r\n",
        "  plt.legend(legend, loc='upper left')\r\n",
        "  plt.show()\r\n",
        "\r\n",
        "plot_model_indicator(history_char.history, 'mse', 'val_mse', 'MSE of Char LSTM model', 'Epoch','MSE',['Train_MSE','Val_MSE'])\r\n",
        "plot_model_indicator(history_char.history, 'mae', 'val_mae', 'MAE of Char LSTM model', 'Epoch','MAE',['Train_MAE','Val_MAE'])\r\n",
        "plot_model_indicator(history_char.history, 'root_mean_squared_error', 'val_root_mean_squared_error', 'RMSE of Char LSTM model', 'Epoch','RMSE',['Train_RMSE','Val_RMSE'])\r\n",
        "\r\n"
      ],
      "execution_count": null,
      "outputs": [
        {
          "output_type": "display_data",
          "data": {
            "image/png": "[encoded data removed]",
            "text/plain": [
              "<Figure size 432x288 with 1 Axes>"
            ]
          },
          "metadata": {
            "tags": [],
            "needs_background": "light"
          }
        },
        {
          "output_type": "display_data",
          "data": {
            "image/png": "[encoded data removed]",
            "text/plain": [
              "<Figure size 432x288 with 1 Axes>"
            ]
          },
          "metadata": {
            "tags": [],
            "needs_background": "light"
          }
        },
        {
          "output_type": "display_data",
          "data": {
            "image/png": "[encoded data removed]",
            "text/plain": [
              "<Figure size 432x288 with 1 Axes>"
            ]
          },
          "metadata": {
            "tags": [],
            "needs_background": "light"
          }
        }
      ]
    },
    {
      "cell_type": "markdown",
      "metadata": {
        "id": "YO26m6p3bfpY"
      },
      "source": [
        "# c.\tAs in previous tasks we would like to create either a naïve or model-based benchmark – use count vectorizer on the character sequences you generated on (a) along with any modeling or statistical method to create such a benchmark score – remember, only by comparing your results with a strong benchmark will truly serve your will to asses how good your model is"
      ]
    },
    {
      "cell_type": "code",
      "metadata": {
        "id": "gMrFkJhUUovx"
      },
      "source": [
        "vectorizer = CountVectorizer(analyzer='char',vocabulary=tokens)\r\n",
        "\r\n",
        "train_description_vec = vectorizer.transform(train_df.product_description).toarray()\r\n",
        "train_search_vec = vectorizer.transform(train_df.search_term).toarray()\r\n",
        "\r\n",
        "test_description_vec = vectorizer.transform(test_df.product_description).toarray()\r\n",
        "test_search_vec = vectorizer.transform(test_df.search_term).toarray()"
      ],
      "execution_count": null,
      "outputs": []
    },
    {
      "cell_type": "code",
      "metadata": {
        "colab": {
          "base_uri": "https://localhost:8080/"
        },
        "id": "R2R5HLlNCoSf",
        "outputId": "6c8e63a8-d8d1-4073-d287-92dd4e8cd857"
      },
      "source": [
        "train_description_vec[0]"
      ],
      "execution_count": null,
      "outputs": [
        {
          "output_type": "execute_result",
          "data": {
            "text/plain": [
              "array([128,   0,   2,   1,   0,   0,   0,   0,   2,   2,   0,   0,   4,\n",
              "         7,   8,   2,   2,   6,   3,   2,   0,   0,   0,   0,   0,   2,\n",
              "         1,   0,   0,   0,   0,   0,   0,   0,   0,   0,   0,   0,   0,\n",
              "        42,   4,  29,  23,  78,  10,  17,  19,  46,   7,   4,  20,  15,\n",
              "        63,  69,  10,   0,  58,  61,  56,  12,   8,   8,   6,   5,   5,\n",
              "         0,   0,   0])"
            ]
          },
          "metadata": {
            "tags": []
          },
          "execution_count": 33
        }
      ]
    },
    {
      "cell_type": "code",
      "metadata": {
        "colab": {
          "base_uri": "https://localhost:8080/"
        },
        "id": "EmMZ3TTiCgnr",
        "outputId": "d73c8fc8-7db2-48ab-f106-cbd5a312f669"
      },
      "source": [
        "train_search_vec[0]"
      ],
      "execution_count": null,
      "outputs": [
        {
          "output_type": "execute_result",
          "data": {
            "text/plain": [
              "array([1, 0, 0, 0, 0, 0, 0, 0, 0, 0, 0, 0, 0, 0, 0, 0, 0, 0, 0, 0, 0, 0,\n",
              "       0, 0, 0, 0, 0, 0, 0, 0, 0, 0, 0, 0, 0, 0, 0, 0, 0, 2, 1, 1, 0, 2,\n",
              "       0, 1, 0, 0, 0, 1, 1, 0, 1, 0, 0, 0, 1, 0, 1, 0, 0, 0, 0, 0, 0, 0,\n",
              "       0, 0])"
            ]
          },
          "metadata": {
            "tags": []
          },
          "execution_count": 34
        }
      ]
    },
    {
      "cell_type": "code",
      "metadata": {
        "id": "CwU6O5aNV212"
      },
      "source": [
        "y = train_df.relevance.values\r\n",
        "y_test = test_df.relevance.values"
      ],
      "execution_count": null,
      "outputs": []
    },
    {
      "cell_type": "code",
      "metadata": {
        "id": "ZNSIvuMdWAKv"
      },
      "source": [
        "x = np.concatenate((train_description_vec,train_search_vec),axis = 1)\r\n",
        "X_test =  np.concatenate((test_description_vec,test_search_vec),axis = 1)"
      ],
      "execution_count": null,
      "outputs": []
    },
    {
      "cell_type": "code",
      "metadata": {
        "id": "e559iinxWKNR"
      },
      "source": [
        "x_train, x_val, y_train, y_val = train_test_split(x,y, test_size=0.2, random_state=42)"
      ],
      "execution_count": null,
      "outputs": []
    },
    {
      "cell_type": "code",
      "metadata": {
        "colab": {
          "base_uri": "https://localhost:8080/"
        },
        "id": "XLFo69fR_f9j",
        "outputId": "e82af184-9830-4e57-87b1-869ebabd7617"
      },
      "source": [
        "x_train[0]"
      ],
      "execution_count": null,
      "outputs": [
        {
          "output_type": "execute_result",
          "data": {
            "text/plain": [
              "array([92,  0,  0,  0,  0,  0,  0,  0,  0,  0,  0,  0, 10,  1,  2,  1,  0,\n",
              "        0,  0,  0,  0,  0,  0,  0,  0,  0,  0,  0,  0,  0,  0,  0,  0,  0,\n",
              "        0,  0,  0,  0,  0, 60,  6, 32, 26, 57, 16,  8, 18, 46,  0,  4, 29,\n",
              "       17, 36, 45, 13,  0, 35, 39, 39, 11,  2,  5,  1,  8,  0,  0,  0,  0,\n",
              "        2,  0,  0,  0,  0,  0,  0,  0,  0,  0,  0,  0,  0,  1,  0,  0,  0,\n",
              "        0,  1,  0,  0,  0,  0,  0,  0,  0,  0,  0,  0,  0,  0,  0,  0,  0,\n",
              "        0,  0,  0,  0,  0,  2,  0,  1,  2,  4,  0,  2,  0,  0,  0,  0,  0,\n",
              "        0,  2,  1,  0,  0,  2,  0,  1,  0,  0,  0,  1,  0,  0,  0,  0,  0])"
            ]
          },
          "metadata": {
            "tags": []
          },
          "execution_count": 38
        }
      ]
    },
    {
      "cell_type": "code",
      "metadata": {
        "colab": {
          "base_uri": "https://localhost:8080/"
        },
        "id": "SDkhqY6O_p3v",
        "outputId": "3197670e-950d-4427-93a4-0c22eccf946c"
      },
      "source": [
        "y_train"
      ],
      "execution_count": null,
      "outputs": [
        {
          "output_type": "execute_result",
          "data": {
            "text/plain": [
              "array([2.67, 2.67, 1.  , ..., 2.67, 1.67, 2.  ])"
            ]
          },
          "metadata": {
            "tags": []
          },
          "execution_count": 39
        }
      ]
    },
    {
      "cell_type": "code",
      "metadata": {
        "id": "napY_uShXatm"
      },
      "source": [
        "rf = RandomForestRegressor(n_jobs=-1, n_estimators=25, max_depth=15)"
      ],
      "execution_count": null,
      "outputs": []
    },
    {
      "cell_type": "code",
      "metadata": {
        "id": "yCJ3YSVVXg3p"
      },
      "source": [
        "start_rf_benchmark = time.time()\r\n",
        "rf.fit(x_train,y_train)\r\n",
        "runtime_rf_benchmark = time.time() - start_rf_benchmark"
      ],
      "execution_count": null,
      "outputs": []
    },
    {
      "cell_type": "code",
      "metadata": {
        "id": "vKdMZpP2Xww4"
      },
      "source": [
        "rf_train_predictions = rf.predict(x_train)\r\n",
        "rf_val_predictions = rf.predict(x_val)\r\n",
        "rf_test_predictions = rf.predict(X_test)"
      ],
      "execution_count": null,
      "outputs": []
    },
    {
      "cell_type": "code",
      "metadata": {
        "colab": {
          "base_uri": "https://localhost:8080/"
        },
        "id": "vVK355SZ_wbQ",
        "outputId": "82c3d137-1747-4dea-f0eb-33489485fa9a"
      },
      "source": [
        "rf_train_predictions"
      ],
      "execution_count": null,
      "outputs": [
        {
          "output_type": "execute_result",
          "data": {
            "text/plain": [
              "array([2.42505962, 2.4550093 , 1.33510512, ..., 2.37844363, 2.4852798 ,\n",
              "       2.50923597])"
            ]
          },
          "metadata": {
            "tags": []
          },
          "execution_count": 43
        }
      ]
    },
    {
      "cell_type": "code",
      "metadata": {
        "id": "PS5H_zALgpF-"
      },
      "source": [
        "rf_train_rmse = sqrt(mean_squared_error(y_train, rf_train_predictions))\r\n",
        "rf_val_rmse = sqrt(mean_squared_error(y_val, rf_val_predictions))\r\n",
        "rf_test_rmse = sqrt(mean_squared_error(y_test, rf_test_predictions))\r\n",
        "\r\n",
        "rf_train_mae = mean_absolute_error(y_train, rf_train_predictions)\r\n",
        "rf_val_mae =  mean_absolute_error(y_val, rf_val_predictions)\r\n",
        "rf_test_mae = mean_absolute_error(y_test, rf_test_predictions)"
      ],
      "execution_count": null,
      "outputs": []
    },
    {
      "cell_type": "code",
      "metadata": {
        "colab": {
          "base_uri": "https://localhost:8080/"
        },
        "id": "zYgeZ4hUYEk_",
        "outputId": "b2a268dc-7ca9-45f8-ace5-d271c0f8485e"
      },
      "source": [
        "print(f'Random Forest Train RMSE: {rf_train_rmse}')\r\n",
        "print(f'Random Forest Val RMSE: {rf_val_rmse}')\r\n",
        "print(f'Random Forest Test RMSE: {rf_test_rmse}')\r\n",
        "print(\"----\"*10)\r\n",
        "print(f'Random Forest Train MAE: {rf_train_mae}')\r\n",
        "print(f'Random Forest Val MAE: {rf_val_mae}')\r\n",
        "print(f'Random Forest Test MAE: {rf_test_mae}')\r\n"
      ],
      "execution_count": null,
      "outputs": [
        {
          "output_type": "stream",
          "text": [
            "Random Forest Train RMSE: 0.41880834553318697\n",
            "Random Forest Val RMSE: 0.5050313518148385\n",
            "Random Forest Test RMSE: 0.5252285529488847\n",
            "----------------------------------------\n",
            "Random Forest Train MAE: 0.34409260586396\n",
            "Random Forest Val MAE: 0.4126602998915249\n",
            "Random Forest Test MAE: 0.4292776870147871\n"
          ],
          "name": "stdout"
        }
      ]
    },
    {
      "cell_type": "code",
      "metadata": {
        "colab": {
          "base_uri": "https://localhost:8080/",
          "height": 281
        },
        "id": "YemuIRsf6itv",
        "outputId": "46691b86-7cf9-4b90-ae2b-79d8bc7861a4"
      },
      "source": [
        "plot_metrics_results('Random Forest Regressor benchmark','RMSE',rf_train_rmse,rf_val_rmse,rf_test_rmse)"
      ],
      "execution_count": null,
      "outputs": [
        {
          "output_type": "display_data",
          "data": {
            "image/png": "[encoded data removed]",
            "text/plain": [
              "<Figure size 432x288 with 1 Axes>"
            ]
          },
          "metadata": {
            "tags": [],
            "needs_background": "light"
          }
        }
      ]
    },
    {
      "cell_type": "code",
      "metadata": {
        "colab": {
          "base_uri": "https://localhost:8080/",
          "height": 281
        },
        "id": "CZaCewrJ6119",
        "outputId": "c156a272-c4c9-4476-fbe0-1753fd16642b"
      },
      "source": [
        "plot_metrics_results('Random Forest Regressor benchmark','MAE',rf_train_mae,rf_val_mae,rf_test_mae)"
      ],
      "execution_count": null,
      "outputs": [
        {
          "output_type": "display_data",
          "data": {
            "image/png": "[encoded data removed]",
            "text/plain": [
              "<Figure size 432x288 with 1 Axes>"
            ]
          },
          "metadata": {
            "tags": [],
            "needs_background": "light"
          }
        }
      ]
    },
    {
      "cell_type": "code",
      "metadata": {
        "id": "3al9iXqoia3T"
      },
      "source": [
        "append_results('Random Forest Regressor benchmark', runtime_rf_benchmark, rf_train_rmse, rf_val_rmse,\r\n",
        "                     rf_test_rmse, rf_train_mae, rf_val_mae,\r\n",
        "                     rf_test_mae)"
      ],
      "execution_count": null,
      "outputs": []
    },
    {
      "cell_type": "code",
      "metadata": {
        "colab": {
          "base_uri": "https://localhost:8080/",
          "height": 110
        },
        "id": "pWvYG29KjDwb",
        "outputId": "635a95dd-4d92-4a38-9112-7a8e84dbbf08"
      },
      "source": [
        "results"
      ],
      "execution_count": null,
      "outputs": [
        {
          "output_type": "execute_result",
          "data": {
            "text/html": [
              "<div>\n",
              "<style scoped>\n",
              "    .dataframe tbody tr th:only-of-type {\n",
              "        vertical-align: middle;\n",
              "    }\n",
              "\n",
              "    .dataframe tbody tr th {\n",
              "        vertical-align: top;\n",
              "    }\n",
              "\n",
              "    .dataframe thead th {\n",
              "        text-align: right;\n",
              "    }\n",
              "</style>\n",
              "<table border=\"1\" class=\"dataframe\">\n",
              "  <thead>\n",
              "    <tr style=\"text-align: right;\">\n",
              "      <th></th>\n",
              "      <th>Model</th>\n",
              "      <th>Runtime</th>\n",
              "      <th>Train_RMSE</th>\n",
              "      <th>Val_RMSE</th>\n",
              "      <th>Test_RMSE</th>\n",
              "      <th>Train_MAE</th>\n",
              "      <th>Val_MAE</th>\n",
              "      <th>Test_MAE</th>\n",
              "    </tr>\n",
              "  </thead>\n",
              "  <tbody>\n",
              "    <tr>\n",
              "      <th>0</th>\n",
              "      <td>Char LSTM</td>\n",
              "      <td>588.598047</td>\n",
              "      <td>0.534180</td>\n",
              "      <td>0.533738</td>\n",
              "      <td>0.535869</td>\n",
              "      <td>0.435614</td>\n",
              "      <td>0.436391</td>\n",
              "      <td>0.437229</td>\n",
              "    </tr>\n",
              "    <tr>\n",
              "      <th>1</th>\n",
              "      <td>Random Forest Regressor benchmark</td>\n",
              "      <td>20.070118</td>\n",
              "      <td>0.418808</td>\n",
              "      <td>0.505031</td>\n",
              "      <td>0.525229</td>\n",
              "      <td>0.344093</td>\n",
              "      <td>0.412660</td>\n",
              "      <td>0.429278</td>\n",
              "    </tr>\n",
              "  </tbody>\n",
              "</table>\n",
              "</div>"
            ],
            "text/plain": [
              "                               Model     Runtime  ...   Val_MAE  Test_MAE\n",
              "0                          Char LSTM  588.598047  ...  0.436391  0.437229\n",
              "1  Random Forest Regressor benchmark   20.070118  ...  0.412660  0.429278\n",
              "\n",
              "[2 rows x 8 columns]"
            ]
          },
          "metadata": {
            "tags": []
          },
          "execution_count": 49
        }
      ]
    },
    {
      "cell_type": "markdown",
      "metadata": {
        "id": "Zqcb1f5_1eOt"
      },
      "source": [
        "# d. Use the model you have got, either last layer or any other layer as a feature extractor for other ML model (please select at least two of: xgboost, lightgbm, catboost, random forest, knn, svm) "
      ]
    },
    {
      "cell_type": "code",
      "metadata": {
        "id": "Tp581eHk1tEt"
      },
      "source": [
        "feature_extractor_char = Model(siamese_net_char.inputs, outputs=siamese_net_char.get_layer('subtract').output)"
      ],
      "execution_count": null,
      "outputs": []
    },
    {
      "cell_type": "code",
      "metadata": {
        "id": "i_TGoUQe17Hn"
      },
      "source": [
        "x_train_features_char = feature_extractor_char.predict([x_train_search_item_char, x_train_product_description_char])\r\n",
        "x_val_features_char = feature_extractor_char.predict([x_val_search_item_char, x_val_product_description_char])\r\n",
        "x_test_features_char = feature_extractor_char.predict([x_test_search_item_char, x_test_product_description_char])"
      ],
      "execution_count": null,
      "outputs": []
    },
    {
      "cell_type": "markdown",
      "metadata": {
        "id": "5PlSOnYf2Ktl"
      },
      "source": [
        "**Random Forest Regressor with feature extraction of LSTM character model Subtract layer**"
      ]
    },
    {
      "cell_type": "code",
      "metadata": {
        "colab": {
          "base_uri": "https://localhost:8080/"
        },
        "id": "gKrnJdVy1_pz",
        "outputId": "c89adf5b-0a80-4b1c-b0a0-0a52ab99ee33"
      },
      "source": [
        "start_rf_fext = time.time()\r\n",
        "rf_char = RandomForestRegressor(n_jobs=-1 ,n_estimators=25, max_depth=15)\r\n",
        "rf_char.fit(x_train_features_char, y_train_char)\r\n",
        "runtime_rf_fext = time.time() - start_rf_fext"
      ],
      "execution_count": null,
      "outputs": [
        {
          "output_type": "stream",
          "text": [
            "/usr/local/lib/python3.6/dist-packages/ipykernel_launcher.py:3: DataConversionWarning: A column-vector y was passed when a 1d array was expected. Please change the shape of y to (n_samples,), for example using ravel().\n",
            "  This is separate from the ipykernel package so we can avoid doing imports until\n"
          ],
          "name": "stderr"
        }
      ]
    },
    {
      "cell_type": "code",
      "metadata": {
        "id": "YAXYudkG3ANW"
      },
      "source": [
        "rf_predictions_train_char = rf_char.predict(x_train_features_char)\r\n",
        "rf_predictions_val_char = rf_char.predict(x_val_features_char)\r\n",
        "rf_predictions_test_char = rf_char.predict(x_test_features_char)"
      ],
      "execution_count": null,
      "outputs": []
    },
    {
      "cell_type": "code",
      "metadata": {
        "id": "GIfxu7hv3sCx"
      },
      "source": [
        "rf_train_rmse_char = sqrt(mean_squared_error(y_train_char, rf_predictions_train_char))\r\n",
        "rf_val_rmse_char = sqrt(mean_squared_error(y_val_char, rf_predictions_val_char))\r\n",
        "rf_test_rmse_char = sqrt(mean_squared_error(y_test, rf_predictions_test_char))\r\n",
        "\r\n",
        "rf_train_mae_char = mean_absolute_error(y_train_char, rf_predictions_train_char)\r\n",
        "rf_val_mae_char = mean_absolute_error(y_val_char, rf_predictions_val_char)\r\n",
        "rf_test_mae_char = mean_absolute_error(y_test, rf_predictions_test_char)\r\n"
      ],
      "execution_count": null,
      "outputs": []
    },
    {
      "cell_type": "code",
      "metadata": {
        "colab": {
          "base_uri": "https://localhost:8080/"
        },
        "id": "jIY6RijL3_e4",
        "outputId": "50daca44-771b-47b1-beec-b009d37316b7"
      },
      "source": [
        "print(f'Random Forest Train RMSE: {rf_train_rmse_char}')\r\n",
        "print(f'Random Forest Val RMSE: {rf_val_rmse_char}')\r\n",
        "print(f'Random Forest Val RMSE: {rf_test_rmse_char}')\r\n",
        "print(\"----\"*10)\r\n",
        "print(f'Random Forest Train MAE: {rf_train_mae_char}')\r\n",
        "print(f'Random Forest Val MAE: {rf_val_mae_char}')\r\n",
        "print(f'Random Forest Test MAE: {rf_test_mae_char}')\r\n"
      ],
      "execution_count": null,
      "outputs": [
        {
          "output_type": "stream",
          "text": [
            "Random Forest Train RMSE: 0.511405805416568\n",
            "Random Forest Val RMSE: 0.5335757978125683\n",
            "Random Forest Val RMSE: 0.5371146825389874\n",
            "----------------------------------------\n",
            "Random Forest Train MAE: 0.4166520499519487\n",
            "Random Forest Val MAE: 0.43729616299646934\n",
            "Random Forest Test MAE: 0.43906884779515537\n"
          ],
          "name": "stdout"
        }
      ]
    },
    {
      "cell_type": "code",
      "metadata": {
        "colab": {
          "base_uri": "https://localhost:8080/",
          "height": 281
        },
        "id": "VrpYrZTE3WPb",
        "outputId": "856df9cb-b6bc-428c-90b1-d2253c1ef9be"
      },
      "source": [
        "plot_metrics_results('Random Forest Regressor with feature extractor','RMSE',rf_train_rmse_char,rf_val_rmse_char,rf_test_rmse_char)"
      ],
      "execution_count": null,
      "outputs": [
        {
          "output_type": "display_data",
          "data": {
            "image/png": "[encoded data removed]",
            "text/plain": [
              "<Figure size 432x288 with 1 Axes>"
            ]
          },
          "metadata": {
            "tags": [],
            "needs_background": "light"
          }
        }
      ]
    },
    {
      "cell_type": "code",
      "metadata": {
        "colab": {
          "base_uri": "https://localhost:8080/",
          "height": 281
        },
        "id": "4HRmxcEE6R0F",
        "outputId": "01149ded-feb9-416f-b937-ecf7a1e06ff1"
      },
      "source": [
        "plot_metrics_results('Random Forest Regressor with feature extractor','MAE',rf_train_mae_char,rf_val_mae_char,rf_test_mae_char)"
      ],
      "execution_count": null,
      "outputs": [
        {
          "output_type": "display_data",
          "data": {
            "image/png": "[encoded data removed]",
            "text/plain": [
              "<Figure size 432x288 with 1 Axes>"
            ]
          },
          "metadata": {
            "tags": [],
            "needs_background": "light"
          }
        }
      ]
    },
    {
      "cell_type": "code",
      "metadata": {
        "id": "HyDDMiNs5YHw"
      },
      "source": [
        "append_results('Random Forest Regressor with feature extractor', runtime_rf_fext, rf_train_rmse_char, rf_val_rmse_char,\r\n",
        "                     rf_test_rmse_char, rf_train_mae_char, rf_val_mae_char,\r\n",
        "                     rf_test_mae_char)"
      ],
      "execution_count": null,
      "outputs": []
    },
    {
      "cell_type": "code",
      "metadata": {
        "colab": {
          "base_uri": "https://localhost:8080/",
          "height": 141
        },
        "id": "hdSakhRO6Yjy",
        "outputId": "71bebf73-71a5-47d9-e2cf-4dc213eae966"
      },
      "source": [
        "results"
      ],
      "execution_count": null,
      "outputs": [
        {
          "output_type": "execute_result",
          "data": {
            "text/html": [
              "<div>\n",
              "<style scoped>\n",
              "    .dataframe tbody tr th:only-of-type {\n",
              "        vertical-align: middle;\n",
              "    }\n",
              "\n",
              "    .dataframe tbody tr th {\n",
              "        vertical-align: top;\n",
              "    }\n",
              "\n",
              "    .dataframe thead th {\n",
              "        text-align: right;\n",
              "    }\n",
              "</style>\n",
              "<table border=\"1\" class=\"dataframe\">\n",
              "  <thead>\n",
              "    <tr style=\"text-align: right;\">\n",
              "      <th></th>\n",
              "      <th>Model</th>\n",
              "      <th>Runtime</th>\n",
              "      <th>Train_RMSE</th>\n",
              "      <th>Val_RMSE</th>\n",
              "      <th>Test_RMSE</th>\n",
              "      <th>Train_MAE</th>\n",
              "      <th>Val_MAE</th>\n",
              "      <th>Test_MAE</th>\n",
              "    </tr>\n",
              "  </thead>\n",
              "  <tbody>\n",
              "    <tr>\n",
              "      <th>0</th>\n",
              "      <td>Char LSTM</td>\n",
              "      <td>588.598047</td>\n",
              "      <td>0.534180</td>\n",
              "      <td>0.533738</td>\n",
              "      <td>0.535869</td>\n",
              "      <td>0.435614</td>\n",
              "      <td>0.436391</td>\n",
              "      <td>0.437229</td>\n",
              "    </tr>\n",
              "    <tr>\n",
              "      <th>1</th>\n",
              "      <td>Random Forest Regressor benchmark</td>\n",
              "      <td>20.070118</td>\n",
              "      <td>0.418808</td>\n",
              "      <td>0.505031</td>\n",
              "      <td>0.525229</td>\n",
              "      <td>0.344093</td>\n",
              "      <td>0.412660</td>\n",
              "      <td>0.429278</td>\n",
              "    </tr>\n",
              "    <tr>\n",
              "      <th>2</th>\n",
              "      <td>Random Forest Regressor with feature extractor</td>\n",
              "      <td>13.832969</td>\n",
              "      <td>0.511406</td>\n",
              "      <td>0.533576</td>\n",
              "      <td>0.537115</td>\n",
              "      <td>0.416652</td>\n",
              "      <td>0.437296</td>\n",
              "      <td>0.439069</td>\n",
              "    </tr>\n",
              "  </tbody>\n",
              "</table>\n",
              "</div>"
            ],
            "text/plain": [
              "                                            Model  ...  Test_MAE\n",
              "0                                       Char LSTM  ...  0.437229\n",
              "1               Random Forest Regressor benchmark  ...  0.429278\n",
              "2  Random Forest Regressor with feature extractor  ...  0.439069\n",
              "\n",
              "[3 rows x 8 columns]"
            ]
          },
          "metadata": {
            "tags": []
          },
          "execution_count": 59
        }
      ]
    },
    {
      "cell_type": "markdown",
      "metadata": {
        "id": "Bq_O-thD_WIR"
      },
      "source": [
        "**XGBoost with feature extraction of LSTM character model Subtract layer**"
      ]
    },
    {
      "cell_type": "code",
      "metadata": {
        "id": "8GFr6dhH_kPv"
      },
      "source": [
        "xgb_char = XGBRegressor(n_jobs=-1)"
      ],
      "execution_count": null,
      "outputs": []
    },
    {
      "cell_type": "code",
      "metadata": {
        "colab": {
          "base_uri": "https://localhost:8080/"
        },
        "id": "_AqE6DlbACGj",
        "outputId": "e6aa6057-709a-4f8c-9bad-b561c4bde58d"
      },
      "source": [
        "start_xgb_fext = time.time()\r\n",
        "xgb_char.fit(x_train_features_char, y_train_char)\r\n",
        "runtime_xgb_fext = time.time() - start_xgb_fext"
      ],
      "execution_count": null,
      "outputs": [
        {
          "output_type": "stream",
          "text": [
            "[07:54:45] WARNING: /workspace/src/objective/regression_obj.cu:152: reg:linear is now deprecated in favor of reg:squarederror.\n"
          ],
          "name": "stdout"
        }
      ]
    },
    {
      "cell_type": "code",
      "metadata": {
        "id": "D2O58_w0_1Fn"
      },
      "source": [
        "xgb_predictions_train_char = xgb_char.predict(x_train_features_char)\r\n",
        "xgb_predictions_val_char = xgb_char.predict(x_val_features_char)\r\n",
        "xgb_predictions_test_char = xgb_char.predict(x_test_features_char)"
      ],
      "execution_count": null,
      "outputs": []
    },
    {
      "cell_type": "code",
      "metadata": {
        "id": "73VQQy-UAEmY"
      },
      "source": [
        "xgb_train_rmse_char = sqrt(mean_squared_error(y_train_char, xgb_predictions_train_char))\r\n",
        "xgb_val_rmse_char = sqrt(mean_squared_error(y_val_char, xgb_predictions_val_char))\r\n",
        "xgb_test_rmse_char = sqrt(mean_squared_error(y_test, xgb_predictions_test_char))\r\n",
        "\r\n",
        "xgb_train_mae_char = mean_absolute_error(y_train_char, xgb_predictions_train_char)\r\n",
        "xgb_val_mae_char = mean_absolute_error(y_val_char, xgb_predictions_val_char)\r\n",
        "xgb_test_mae_char = mean_absolute_error(y_test, xgb_predictions_test_char)\r\n"
      ],
      "execution_count": null,
      "outputs": []
    },
    {
      "cell_type": "code",
      "metadata": {
        "colab": {
          "base_uri": "https://localhost:8080/"
        },
        "id": "fheNXsmAAYf2",
        "outputId": "00420613-46b5-4971-c157-2359c86aff80"
      },
      "source": [
        "print(f'XGBoost Train RMSE: {xgb_train_rmse_char}')\r\n",
        "print(f'XGBoost Val RMSE: {xgb_val_rmse_char}')\r\n",
        "print(f'XGBoost Test RMSE: {xgb_test_rmse_char}')\r\n",
        "print(\"----\"*10)\r\n",
        "print(f'XGBoost Train MAE: {xgb_train_mae_char}')\r\n",
        "print(f'XGBoost Val MAE: {xgb_val_mae_char}')\r\n",
        "print(f'XGBoost Test MAE: {xgb_test_mae_char}')"
      ],
      "execution_count": null,
      "outputs": [
        {
          "output_type": "stream",
          "text": [
            "XGBoost Train RMSE: 0.5322272890214622\n",
            "XGBoost Val RMSE: 0.5323053043191498\n",
            "XGBoost Test RMSE: 0.5349352005927916\n",
            "----------------------------------------\n",
            "XGBoost Train MAE: 0.4356048877640836\n",
            "XGBoost Val MAE: 0.4367287282784715\n",
            "XGBoost Test MAE: 0.43787083629924994\n"
          ],
          "name": "stdout"
        }
      ]
    },
    {
      "cell_type": "code",
      "metadata": {
        "colab": {
          "base_uri": "https://localhost:8080/",
          "height": 281
        },
        "id": "2zGKxhge8I0E",
        "outputId": "2764f4b3-55b3-43d1-c329-c317b4d00938"
      },
      "source": [
        "plot_metrics_results('XGBoost with feature extractor','RMSE',xgb_train_rmse_char,xgb_val_rmse_char,xgb_test_rmse_char)"
      ],
      "execution_count": null,
      "outputs": [
        {
          "output_type": "display_data",
          "data": {
            "image/png": "[encoded data removed]",
            "text/plain": [
              "<Figure size 432x288 with 1 Axes>"
            ]
          },
          "metadata": {
            "tags": [],
            "needs_background": "light"
          }
        }
      ]
    },
    {
      "cell_type": "code",
      "metadata": {
        "colab": {
          "base_uri": "https://localhost:8080/",
          "height": 281
        },
        "id": "Uc_QW4AO8U3p",
        "outputId": "0c4024e1-e500-48f0-d765-3d5a67274710"
      },
      "source": [
        "plot_metrics_results('XGBoost with feature extractor','MAE',xgb_train_mae_char,xgb_val_mae_char,xgb_test_mae_char)"
      ],
      "execution_count": null,
      "outputs": [
        {
          "output_type": "display_data",
          "data": {
            "image/png": "[encoded data removed]",
            "text/plain": [
              "<Figure size 432x288 with 1 Axes>"
            ]
          },
          "metadata": {
            "tags": [],
            "needs_background": "light"
          }
        }
      ]
    },
    {
      "cell_type": "code",
      "metadata": {
        "id": "dIR0CW63Agus"
      },
      "source": [
        "append_results('XGBoost with feature extractor', runtime_xgb_fext, xgb_train_rmse_char, xgb_val_rmse_char,\r\n",
        "                     xgb_test_rmse_char, xgb_train_mae_char, xgb_val_mae_char,\r\n",
        "                     xgb_test_mae_char)"
      ],
      "execution_count": null,
      "outputs": []
    },
    {
      "cell_type": "code",
      "metadata": {
        "colab": {
          "base_uri": "https://localhost:8080/",
          "height": 172
        },
        "id": "zJPEx09RBCGP",
        "outputId": "77ff7843-9635-45bb-f6f2-df9dcbb1e1a5"
      },
      "source": [
        "results"
      ],
      "execution_count": null,
      "outputs": [
        {
          "output_type": "execute_result",
          "data": {
            "text/html": [
              "<div>\n",
              "<style scoped>\n",
              "    .dataframe tbody tr th:only-of-type {\n",
              "        vertical-align: middle;\n",
              "    }\n",
              "\n",
              "    .dataframe tbody tr th {\n",
              "        vertical-align: top;\n",
              "    }\n",
              "\n",
              "    .dataframe thead th {\n",
              "        text-align: right;\n",
              "    }\n",
              "</style>\n",
              "<table border=\"1\" class=\"dataframe\">\n",
              "  <thead>\n",
              "    <tr style=\"text-align: right;\">\n",
              "      <th></th>\n",
              "      <th>Model</th>\n",
              "      <th>Runtime</th>\n",
              "      <th>Train_RMSE</th>\n",
              "      <th>Val_RMSE</th>\n",
              "      <th>Test_RMSE</th>\n",
              "      <th>Train_MAE</th>\n",
              "      <th>Val_MAE</th>\n",
              "      <th>Test_MAE</th>\n",
              "    </tr>\n",
              "  </thead>\n",
              "  <tbody>\n",
              "    <tr>\n",
              "      <th>0</th>\n",
              "      <td>Char LSTM</td>\n",
              "      <td>588.598047</td>\n",
              "      <td>0.534180</td>\n",
              "      <td>0.533738</td>\n",
              "      <td>0.535869</td>\n",
              "      <td>0.435614</td>\n",
              "      <td>0.436391</td>\n",
              "      <td>0.437229</td>\n",
              "    </tr>\n",
              "    <tr>\n",
              "      <th>1</th>\n",
              "      <td>Random Forest Regressor benchmark</td>\n",
              "      <td>20.070118</td>\n",
              "      <td>0.418808</td>\n",
              "      <td>0.505031</td>\n",
              "      <td>0.525229</td>\n",
              "      <td>0.344093</td>\n",
              "      <td>0.412660</td>\n",
              "      <td>0.429278</td>\n",
              "    </tr>\n",
              "    <tr>\n",
              "      <th>2</th>\n",
              "      <td>Random Forest Regressor with feature extractor</td>\n",
              "      <td>13.832969</td>\n",
              "      <td>0.511406</td>\n",
              "      <td>0.533576</td>\n",
              "      <td>0.537115</td>\n",
              "      <td>0.416652</td>\n",
              "      <td>0.437296</td>\n",
              "      <td>0.439069</td>\n",
              "    </tr>\n",
              "    <tr>\n",
              "      <th>3</th>\n",
              "      <td>XGBoost with feature extractor</td>\n",
              "      <td>7.912543</td>\n",
              "      <td>0.532227</td>\n",
              "      <td>0.532305</td>\n",
              "      <td>0.534935</td>\n",
              "      <td>0.435605</td>\n",
              "      <td>0.436729</td>\n",
              "      <td>0.437871</td>\n",
              "    </tr>\n",
              "  </tbody>\n",
              "</table>\n",
              "</div>"
            ],
            "text/plain": [
              "                                            Model  ...  Test_MAE\n",
              "0                                       Char LSTM  ...  0.437229\n",
              "1               Random Forest Regressor benchmark  ...  0.429278\n",
              "2  Random Forest Regressor with feature extractor  ...  0.439069\n",
              "3                  XGBoost with feature extractor  ...  0.437871\n",
              "\n",
              "[4 rows x 8 columns]"
            ]
          },
          "metadata": {
            "tags": []
          },
          "execution_count": 68
        }
      ]
    }
  ]
}